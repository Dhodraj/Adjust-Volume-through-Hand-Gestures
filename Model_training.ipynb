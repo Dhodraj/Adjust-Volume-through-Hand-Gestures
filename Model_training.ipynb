{
 "cells": [
  {
   "cell_type": "code",
   "execution_count": 1,
   "metadata": {},
   "outputs": [],
   "source": [
    "import keras \n",
    "import os\n",
    "import numpy as np\n",
    "import cv2\n",
    "import tensorflow as tf\n",
    "from PIL import Image\n",
    "from tensorflow.keras.preprocessing.image import ImageDataGenerator\n",
    "from tensorflow.keras.preprocessing import image \n",
    "import matplotlib.pyplot as plt\n",
    "from matplotlib import image,pyplot\n",
    "from keras.utils import to_categorical\n",
    "from tensorflow.keras.optimizers import RMSprop\n",
    "from keras.models import Sequential\n",
    "import keras\n",
    "from keras import layers\n",
    "from keras.layers import Flatten\n",
    "from sklearn.model_selection import train_test_split"
   ]
  },
  {
   "cell_type": "code",
   "execution_count": 2,
   "metadata": {},
   "outputs": [],
   "source": [
    "img=image.load_img(\"C:/Users/Annamalai/desktop/others/data/train/0/0.jpg\")"
   ]
  },
  {
   "cell_type": "code",
   "execution_count": 3,
   "metadata": {},
   "outputs": [
    {
     "data": {
      "text/plain": [
       "<matplotlib.image.AxesImage at 0x28f11adb580>"
      ]
     },
     "execution_count": 3,
     "metadata": {},
     "output_type": "execute_result"
    },
    {
     "data": {
      "image/png": "[encoded data removed]",
      "text/plain": [
       "<Figure size 432x288 with 1 Axes>"
      ]
     },
     "metadata": {
      "needs_background": "light"
     },
     "output_type": "display_data"
    }
   ],
   "source": [
    "plt.imshow(img)"
   ]
  },
  {
   "cell_type": "code",
   "execution_count": 6,
   "metadata": {},
   "outputs": [
    {
     "data": {
      "text/plain": [
       "(64, 64, 3)"
      ]
     },
     "execution_count": 6,
     "metadata": {},
     "output_type": "execute_result"
    }
   ],
   "source": [
    "shapy=cv2.imread(\"C:/Users/Annamalai/desktop/others/data/train/0/0.jpg\")\n",
    "shapy.shape"
   ]
  },
  {
   "cell_type": "code",
   "execution_count": 2,
   "metadata": {},
   "outputs": [],
   "source": [
    "x,y=[],[]\n",
    "path=\"C:/Users/Annamalai/Desktop/others/data/test\"\n",
    "loc=os.listdir(path)\n",
    "for i in os.listdir(path):\n",
    "        for j in os.listdir(path+'/'+i):\n",
    "                im= Image.open(path+'/'+i+'/'+j)\n",
    "                im=im.resize((64,64),Image.ANTIALIAS)\n",
    "                im=np.array(im)\n",
    "                \n",
    "                x.append(im)\n",
    "                y.append(loc.index(i))\n",
    "x=np.array(x)\n",
    "y=to_categorical(y,num_classes=len(loc))"
   ]
  },
  {
   "cell_type": "code",
   "execution_count": 3,
   "metadata": {},
   "outputs": [
    {
     "data": {
      "text/plain": [
       "((1650, 64, 64, 3), (1650, 3))"
      ]
     },
     "execution_count": 3,
     "metadata": {},
     "output_type": "execute_result"
    }
   ],
   "source": [
    "\n",
    "x.shape,y.shape"
   ]
  },
  {
   "cell_type": "code",
   "execution_count": 6,
   "metadata": {},
   "outputs": [],
   "source": [
    "x_train,x_test,y_train,y_test=train_test_split(x,y,train_size=0.80,shuffle=True,random_state=True)\n",
    "x_t,x_val,y_t,y_val=train_test_split(x_train,y_train,train_size=0.80,shuffle=True,random_state=True)"
   ]
  },
  {
   "cell_type": "code",
   "execution_count": 8,
   "metadata": {},
   "outputs": [
    {
     "name": "stdout",
     "output_type": "stream",
     "text": [
      "Model: \"sequential_1\"\n",
      "_________________________________________________________________\n",
      "Layer (type)                 Output Shape              Param #   \n",
      "=================================================================\n",
      "conv2d_3 (Conv2D)            (None, 12, 12, 34)        2584      \n",
      "_________________________________________________________________\n",
      "conv2d_4 (Conv2D)            (None, 4, 4, 64)          19648     \n",
      "_________________________________________________________________\n",
      "max_pooling2d_1 (MaxPooling2 (None, 1, 1, 64)          0         \n",
      "=================================================================\n",
      "Total params: 22,232\n",
      "Trainable params: 22,232\n",
      "Non-trainable params: 0\n",
      "_________________________________________________________________\n",
      "Epoch 1/50\n",
      "11/11 [==============================] - 2s 91ms/step - loss: 5.0779 - accuracy: 0.4000 - val_loss: 0.7771 - val_accuracy: 0.7008\n",
      "Epoch 2/50\n",
      "11/11 [==============================] - 1s 46ms/step - loss: 0.6089 - accuracy: 0.7165 - val_loss: 0.3574 - val_accuracy: 0.9015\n",
      "Epoch 3/50\n",
      "11/11 [==============================] - 0s 34ms/step - loss: 0.2904 - accuracy: 0.9152 - val_loss: 0.2306 - val_accuracy: 0.9129\n",
      "Epoch 4/50\n",
      "11/11 [==============================] - 0s 33ms/step - loss: 0.1505 - accuracy: 0.9551 - val_loss: 0.1230 - val_accuracy: 0.9545\n",
      "Epoch 5/50\n",
      "11/11 [==============================] - 0s 33ms/step - loss: 0.0773 - accuracy: 0.9736 - val_loss: 0.0724 - val_accuracy: 0.9773\n",
      "Epoch 6/50\n",
      "11/11 [==============================] - 0s 32ms/step - loss: 0.0639 - accuracy: 0.9749 - val_loss: 0.0710 - val_accuracy: 0.9697\n",
      "Epoch 7/50\n",
      "11/11 [==============================] - 0s 33ms/step - loss: 0.0366 - accuracy: 0.9916 - val_loss: 0.1066 - val_accuracy: 0.9545\n",
      "Epoch 8/50\n",
      "11/11 [==============================] - 0s 40ms/step - loss: 0.0287 - accuracy: 0.9833 - val_loss: 0.0389 - val_accuracy: 0.9811\n",
      "Epoch 9/50\n",
      "11/11 [==============================] - 0s 39ms/step - loss: 0.0098 - accuracy: 0.9987 - val_loss: 0.0230 - val_accuracy: 0.9886\n",
      "Epoch 10/50\n",
      "11/11 [==============================] - 0s 44ms/step - loss: 0.0072 - accuracy: 0.9998 - val_loss: 0.0165 - val_accuracy: 1.0000\n",
      "Epoch 11/50\n",
      "11/11 [==============================] - 0s 39ms/step - loss: 0.0049 - accuracy: 1.0000 - val_loss: 0.0129 - val_accuracy: 1.0000\n",
      "Epoch 12/50\n",
      "11/11 [==============================] - 0s 38ms/step - loss: 0.0027 - accuracy: 1.0000 - val_loss: 0.0134 - val_accuracy: 1.0000\n",
      "Epoch 13/50\n",
      "11/11 [==============================] - 0s 38ms/step - loss: 0.0017 - accuracy: 1.0000 - val_loss: 0.0114 - val_accuracy: 1.0000\n",
      "Epoch 14/50\n",
      "11/11 [==============================] - 0s 40ms/step - loss: 0.0014 - accuracy: 1.0000 - val_loss: 0.0102 - val_accuracy: 1.0000\n",
      "Epoch 15/50\n",
      "11/11 [==============================] - 0s 39ms/step - loss: 9.8101e-04 - accuracy: 1.0000 - val_loss: 0.0099 - val_accuracy: 1.0000\n",
      "Epoch 16/50\n",
      "11/11 [==============================] - 0s 41ms/step - loss: 8.2969e-04 - accuracy: 1.0000 - val_loss: 0.0118 - val_accuracy: 0.9962\n",
      "Epoch 17/50\n",
      "11/11 [==============================] - 0s 46ms/step - loss: 6.7414e-04 - accuracy: 1.0000 - val_loss: 0.0075 - val_accuracy: 1.0000\n",
      "Epoch 18/50\n",
      "11/11 [==============================] - 0s 39ms/step - loss: 8.3430e-04 - accuracy: 1.0000 - val_loss: 0.0099 - val_accuracy: 1.0000\n",
      "Epoch 19/50\n",
      "11/11 [==============================] - 1s 47ms/step - loss: 6.1255e-04 - accuracy: 1.0000 - val_loss: 0.0081 - val_accuracy: 1.0000\n",
      "Epoch 20/50\n",
      "11/11 [==============================] - 0s 43ms/step - loss: 5.0706e-04 - accuracy: 1.0000 - val_loss: 0.0060 - val_accuracy: 1.0000\n",
      "Epoch 21/50\n",
      "11/11 [==============================] - 0s 39ms/step - loss: 4.3576e-04 - accuracy: 1.0000 - val_loss: 0.0082 - val_accuracy: 1.0000\n",
      "Epoch 22/50\n",
      "11/11 [==============================] - 0s 37ms/step - loss: 3.2763e-04 - accuracy: 1.0000 - val_loss: 0.0066 - val_accuracy: 1.0000\n",
      "Epoch 23/50\n",
      "11/11 [==============================] - 0s 38ms/step - loss: 3.2945e-04 - accuracy: 1.0000 - val_loss: 0.0054 - val_accuracy: 1.0000\n",
      "Epoch 24/50\n",
      "11/11 [==============================] - 0s 44ms/step - loss: 3.4801e-04 - accuracy: 1.0000 - val_loss: 0.0055 - val_accuracy: 1.0000\n",
      "Epoch 25/50\n",
      "11/11 [==============================] - 1s 44ms/step - loss: 1.9480e-04 - accuracy: 1.0000 - val_loss: 0.0055 - val_accuracy: 1.0000\n",
      "Epoch 26/50\n",
      "11/11 [==============================] - 0s 45ms/step - loss: 2.5759e-04 - accuracy: 1.0000 - val_loss: 0.0050 - val_accuracy: 1.0000\n",
      "Epoch 27/50\n",
      "11/11 [==============================] - ETA: 0s - loss: 2.2569e-04 - accuracy: 1.00 - 1s 50ms/step - loss: 2.2138e-04 - accuracy: 1.0000 - val_loss: 0.0047 - val_accuracy: 1.0000\n",
      "Epoch 28/50\n",
      "11/11 [==============================] - 0s 41ms/step - loss: 1.6625e-04 - accuracy: 1.0000 - val_loss: 0.0049 - val_accuracy: 1.0000\n",
      "Epoch 29/50\n",
      "11/11 [==============================] - 0s 40ms/step - loss: 1.5813e-04 - accuracy: 1.0000 - val_loss: 0.0062 - val_accuracy: 1.0000\n",
      "Epoch 30/50\n",
      "11/11 [==============================] - 0s 44ms/step - loss: 1.8795e-04 - accuracy: 1.0000 - val_loss: 0.0041 - val_accuracy: 1.0000\n",
      "Epoch 31/50\n",
      "11/11 [==============================] - 0s 41ms/step - loss: 1.3166e-04 - accuracy: 1.0000 - val_loss: 0.0053 - val_accuracy: 1.0000\n",
      "Epoch 32/50\n",
      "11/11 [==============================] - 0s 38ms/step - loss: 1.6211e-04 - accuracy: 1.0000 - val_loss: 0.0042 - val_accuracy: 1.0000\n",
      "Epoch 33/50\n",
      "11/11 [==============================] - 0s 36ms/step - loss: 1.1310e-04 - accuracy: 1.0000 - val_loss: 0.0048 - val_accuracy: 1.0000\n",
      "Epoch 34/50\n",
      "11/11 [==============================] - 0s 39ms/step - loss: 1.1820e-04 - accuracy: 1.0000 - val_loss: 0.0043 - val_accuracy: 1.0000\n",
      "Epoch 35/50\n",
      "11/11 [==============================] - 0s 41ms/step - loss: 1.0201e-04 - accuracy: 1.0000 - val_loss: 0.0038 - val_accuracy: 1.0000\n",
      "Epoch 36/50\n",
      "11/11 [==============================] - 0s 35ms/step - loss: 1.0956e-04 - accuracy: 1.0000 - val_loss: 0.0040 - val_accuracy: 1.0000\n",
      "Epoch 37/50\n",
      "11/11 [==============================] - 0s 35ms/step - loss: 8.1393e-05 - accuracy: 1.0000 - val_loss: 0.0038 - val_accuracy: 1.0000\n",
      "Epoch 38/50\n",
      "11/11 [==============================] - 0s 32ms/step - loss: 7.1970e-05 - accuracy: 1.0000 - val_loss: 0.0042 - val_accuracy: 1.0000\n",
      "Epoch 39/50\n",
      "11/11 [==============================] - 0s 45ms/step - loss: 7.9201e-05 - accuracy: 1.0000 - val_loss: 0.0036 - val_accuracy: 1.0000\n",
      "Epoch 40/50\n",
      "11/11 [==============================] - 0s 34ms/step - loss: 7.7020e-05 - accuracy: 1.0000 - val_loss: 0.0038 - val_accuracy: 1.0000\n",
      "Epoch 41/50\n",
      "11/11 [==============================] - 0s 39ms/step - loss: 6.5104e-05 - accuracy: 1.0000 - val_loss: 0.0039 - val_accuracy: 1.0000\n",
      "Epoch 42/50\n",
      "11/11 [==============================] - 0s 41ms/step - loss: 6.0587e-05 - accuracy: 1.0000 - val_loss: 0.0034 - val_accuracy: 1.0000\n",
      "Epoch 43/50\n",
      "11/11 [==============================] - 0s 36ms/step - loss: 5.5712e-05 - accuracy: 1.0000 - val_loss: 0.0034 - val_accuracy: 1.0000\n",
      "Epoch 44/50\n",
      "11/11 [==============================] - 0s 44ms/step - loss: 5.3732e-05 - accuracy: 1.0000 - val_loss: 0.0039 - val_accuracy: 1.0000\n",
      "Epoch 45/50\n",
      "11/11 [==============================] - 0s 43ms/step - loss: 5.0506e-05 - accuracy: 1.0000 - val_loss: 0.0031 - val_accuracy: 1.0000\n",
      "Epoch 46/50\n",
      "11/11 [==============================] - 0s 40ms/step - loss: 5.3929e-05 - accuracy: 1.0000 - val_loss: 0.0032 - val_accuracy: 1.0000\n",
      "Epoch 47/50\n",
      "11/11 [==============================] - 0s 43ms/step - loss: 5.0243e-05 - accuracy: 1.0000 - val_loss: 0.0032 - val_accuracy: 1.0000\n",
      "Epoch 48/50\n",
      "11/11 [==============================] - 0s 45ms/step - loss: 4.9152e-05 - accuracy: 1.0000 - val_loss: 0.0033 - val_accuracy: 1.0000\n",
      "Epoch 49/50\n",
      "11/11 [==============================] - 1s 47ms/step - loss: 4.1785e-05 - accuracy: 1.0000 - val_loss: 0.0034 - val_accuracy: 1.0000\n",
      "Epoch 50/50\n",
      "11/11 [==============================] - 0s 41ms/step - loss: 3.5788e-05 - accuracy: 1.0000 - val_loss: 0.0030 - val_accuracy: 1.0000\n"
     ]
    }
   ],
   "source": [
    "model=Sequential()\n",
    "model.add(keras.Input(shape=(64,64,3)))\n",
    "model.add(layers.Conv2D(34,5,strides=5,activation=\"relu\"))\n",
    "model.add(layers.Conv2D(64,3,strides=3,activation=\"relu\"))\n",
    "model.add(layers.MaxPooling2D(3))\n",
    "model.summary()\n",
    "model.add(layers.GlobalMaxPooling2D())\n",
    "model.add(Flatten())\n",
    "model.add(layers.Dense(512,activation=\"relu\"))\n",
    "model.add(layers.Dense(256,activation=\"relu\"))\n",
    "model.add(layers.Dense(32,activation=\"relu\"))\n",
    "model.add(layers.Dense(3, activation = 'softmax'))\n",
    "model.compile(optimizer = 'adam', loss = 'categorical_crossentropy', metrics = ['accuracy'])\n",
    "history=model.fit(x_t,y_t,validation_data=(x_val,y_val),epochs = 50,batch_size =100)"
   ]
  },
  {
   "cell_type": "code",
   "execution_count": 9,
   "metadata": {},
   "outputs": [
    {
     "data": {
      "image/png": "[encoded data removed]",
      "text/plain": [
       "<Figure size 432x288 with 1 Axes>"
      ]
     },
     "metadata": {
      "needs_background": "light"
     },
     "output_type": "display_data"
    }
   ],
   "source": [
    "plt.plot(history.history['accuracy'],color='red')\n",
    "plt.plot(history.history['val_accuracy'],color='orange')\n",
    "plt.title('model accuracy')\n",
    "plt.ylabel('accuracy')\n",
    "plt.xlabel('epoch')\n",
    "plt.legend(['train', 'test'], loc='upper left')\n",
    "plt.show()"
   ]
  },
  {
   "cell_type": "code",
   "execution_count": 10,
   "metadata": {},
   "outputs": [
    {
     "data": {
      "image/png": "[encoded data removed]",
      "text/plain": [
       "<Figure size 432x288 with 1 Axes>"
      ]
     },
     "metadata": {
      "needs_background": "light"
     },
     "output_type": "display_data"
    }
   ],
   "source": [
    "plt.plot(history.history['loss'],color='b')\n",
    "plt.plot(history.history['val_loss'],color='orange')\n",
    "plt.title('model loss')\n",
    "plt.ylabel('loss')\n",
    "plt.xlabel('epoch')\n",
    "plt.legend(['train','test'],loc='upper left')\n",
    "plt.show()"
   ]
  },
  {
   "cell_type": "code",
   "execution_count": 11,
   "metadata": {},
   "outputs": [],
   "source": [
    "model.save('c:/Users/annamalai/desktop/others/data/volume_up_new_model.h5')"
   ]
  },
  {
   "cell_type": "code",
   "execution_count": 12,
   "metadata": {},
   "outputs": [],
   "source": [
    "predict_val=model.predict(x_test)\n",
    "t=np.argmax(predict_val,axis=-1)"
   ]
  },
  {
   "cell_type": "code",
   "execution_count": 13,
   "metadata": {},
   "outputs": [
    {
     "data": {
      "text/plain": [
       "array([[104,   0,   0],\n",
       "       [  2, 113,   0],\n",
       "       [  0,   0, 111]], dtype=int64)"
      ]
     },
     "execution_count": 13,
     "metadata": {},
     "output_type": "execute_result"
    }
   ],
   "source": [
    "\n",
    "from sklearn.metrics import confusion_matrix,classification_report,accuracy_score\n",
    "confusion_matrix(t,np.argmax(y_test,axis=1))"
   ]
  },
  {
   "cell_type": "code",
   "execution_count": 14,
   "metadata": {},
   "outputs": [
    {
     "data": {
      "text/plain": [
       "0.9939393939393939"
      ]
     },
     "execution_count": 14,
     "metadata": {},
     "output_type": "execute_result"
    }
   ],
   "source": [
    "accuracy_score(t,np.argmax(y_test,axis=1))"
   ]
  },
  {
   "cell_type": "code",
   "execution_count": null,
   "metadata": {},
   "outputs": [],
   "source": []
  }
 ],
 "metadata": {
  "kernelspec": {
   "display_name": "Python 3",
   "language": "python",
   "name": "python3"
  },
  "language_info": {
   "codemirror_mode": {
    "name": "ipython",
    "version": 3
   },
   "file_extension": ".py",
   "mimetype": "text/x-python",
   "name": "python",
   "nbconvert_exporter": "python",
   "pygments_lexer": "ipython3",
   "version": "3.8.5"
  }
 },
 "nbformat": 4,
 "nbformat_minor": 4
}
